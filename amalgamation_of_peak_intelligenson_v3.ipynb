{
 "cells": [
  {
   "cell_type": "code",
   "execution_count": null,
   "metadata": {
    "scrolled": true
   },
   "outputs": [],
   "source": [
    "%matplotlib inline\n",
    "import matplotlib.pyplot as plt\n",
    "import numpy as np"
   ]
  },
  {
   "cell_type": "code",
   "execution_count": null,
   "metadata": {},
   "outputs": [],
   "source": [
    "# 1 I need to  evolve x_n for some number of iterations N.\n",
    "# 2 this needs to be done with the initial conditions x_0 = 0.5, r = [0.7,1.00, .01] and n = [0,100] \n",
    "# 3 I need to be able to record all values of x_n and plot them  for each different value of r (x_n vs r graph)\n",
    "# 4 I need to compute the lyaponov exponenet for rach map and plot it as a blue line as a function of r (lambda vs r graph)\n"
   ]
  },
  {
   "cell_type": "code",
   "execution_count": null,
   "metadata": {},
   "outputs": [],
   "source": [
    "# 1 I need to  evolve x_n for some number of iterations N.\n",
    "\n",
    "#x_npo = 4rx_n(1-x_n) this is a reiteritive scheme\n",
    "\n",
    "#x_0 = 0.5\n",
    "#r = np.arange(0.7,1.00,.01)\n",
    "#n = np.arange(101)\n",
    "\n",
    "\n",
    "\n",
    "def x_npoFunction(x_0, r, n):\n",
    "    \n",
    "    #r = np.arange(0.7,1.00,.01)\n",
    "    \n",
    "    a = []\n",
    "    \n",
    "    i = 0\n",
    "    \n",
    "    while(i<n+2):\n",
    "        if(i==0):\n",
    "            x_npo = 4*r*x_0*(1 - x_0)\n",
    "            x_n = x_npo\n",
    "            a.append(x_n)\n",
    "            i += 1\n",
    "\n",
    "        elif(i<n+1):\n",
    "            x_npo = 4*r*x_n*(1 - x_n)\n",
    "            x_n = x_npo\n",
    "            a.append(x_n)\n",
    "            i += 1\n",
    "            \n",
    "        elif(i>=n+1):\n",
    "            i+=1\n",
    "             \n",
    "    return(a)"
   ]
  },
  {
   "cell_type": "code",
   "execution_count": null,
   "metadata": {},
   "outputs": [],
   "source": [
    "def Array_Of_Xn_Values_at_different_R(r_i,r_n,z):\n",
    "\n",
    "    r = np.arange(r_i,r_n,z)\n",
    "    b = []\n",
    "    i = 0\n",
    "    \n",
    "    while(i<len(r)):\n",
    "        a = x_npoFunction(0.65, r[i] ,100)\n",
    "        b.append(a)\n",
    "        i += 1\n",
    "        \n",
    "        \n",
    "    return b"
   ]
  },
  {
   "cell_type": "code",
   "execution_count": null,
   "metadata": {
    "scrolled": true
   },
   "outputs": [],
   "source": [
    "b = Array_Of_Xn_Values_at_different_R(.7,1.0,0.01)\n",
    "fig = plt.figure(figsize=(7,7))\n",
    "plt.ylim([0,1])\n",
    "plt.xlim([0,30])\n",
    "plt.plot(b[0:30])"
   ]
  },
  {
   "cell_type": "code",
   "execution_count": null,
   "metadata": {},
   "outputs": [],
   "source": [
    "def x_n_array(r_i,r_n,z):\n",
    "    \n",
    "    b = Array_Of_Xn_Values_at_different_R(r_i,r_n,z)\n",
    "    r = np.arange(r_i,r_n,z)\n",
    "    x_100 = []\n",
    "    i = 0\n",
    "    \n",
    "    while(i<len(r)):\n",
    "        x_100.append(b[i][100])\n",
    "        i += 1 \n",
    "    \n",
    "    return x_100"
   ]
  },
  {
   "cell_type": "code",
   "execution_count": null,
   "metadata": {},
   "outputs": [],
   "source": [
    "def lyupanov(x,r): # l (L) is Lyupanov exponent\n",
    "    \n",
    "    ly=[]  #makes empty array to be filled with l values\n",
    "    i = 0\n",
    "    n = len(x)  # how many elements x\n",
    "        \n",
    "    while(i<n):   #n being the number of x values per r\n",
    "        if(i==0):\n",
    "            t = 4*r*(1-(2*x[i][0]))\n",
    "            l_0 = 0.5*np.log(np.fabs(t))\n",
    "            i += 1   #iterates\n",
    "        \n",
    "        elif(i<n-1):\n",
    "            t = 4*r*(1-(2*x[i][0]))\n",
    "            l = l_0 + 0.5*np.log(np.fabs(t))\n",
    "            l_0 = l   #defines the new l as l_0 so that we can plug it in summation above.\n",
    "                #gets the next x value with \n",
    "            i += 1 \n",
    "        else:\n",
    "            i += 1\n",
    "        \n",
    "        # find a way to return array with each l value for corresponding to each r\n",
    "    return l_0"
   ]
  },
  {
   "cell_type": "code",
   "execution_count": null,
   "metadata": {},
   "outputs": [],
   "source": [
    "def r_loop():\n",
    "    x = Array_Of_Xn_Values_at_different_R(0.7,1.0,.01)\n",
    "    r = np.arange(0.7,1.0,.01)\n",
    "    l_y = []\n",
    "    i = 0 \n",
    "    \n",
    "    while(i<len(r)):\n",
    "        l_y.append(lyupanov(x,r[i]))\n",
    "        i += 1   \n",
    "        \n",
    "    return l_y"
   ]
  },
  {
   "cell_type": "code",
   "execution_count": null,
   "metadata": {},
   "outputs": [],
   "source": [
    "l_y = r_loop()\n",
    "r = np.arange(0.7,1.0,.01)\n",
    "plt.plot(r, l_y)"
   ]
  },
  {
   "cell_type": "markdown",
   "metadata": {},
   "source": [
    "# Plotting"
   ]
  },
  {
   "cell_type": "code",
   "execution_count": null,
   "metadata": {},
   "outputs": [],
   "source": [
    "f, axarr = plt.subplots(1, 2)\n",
    "f.subplots_adjust(wspace=0.4)\n",
    "\n",
    "l_y = r_loop()\n",
    "x_100 = x_n_array(0.7,1.0,0.01)\n",
    "r = np.arange(0.7,1.0,.01)\n",
    "\n",
    "#first panel - x_npo\n",
    "axarr[0].plot(r, x_100)\n",
    "axarr[0].set_xlabel('r')\n",
    "axarr[0].set_ylabel('x_n(100)')\n",
    "axarr[0].set_title('$x_n\\ values$', position=(0.5,1.07))\n",
    "#second panel - ly\n",
    "axarr[1].plot(r, l_y)\n",
    "axarr[1].set_xlabel('r')\n",
    "axarr[1].set_ylabel('ly')\n",
    "axarr[1].set_title('$ly\\ values$',position=(0.5,1.07))"
   ]
  },
  {
   "cell_type": "markdown",
   "metadata": {},
   "source": [
    "# Playing with graphs of xn and n (can see bifercation here)"
   ]
  },
  {
   "cell_type": "code",
   "execution_count": null,
   "metadata": {},
   "outputs": [],
   "source": [
    "b = Array_Of_Xn_Values_at_different_R(.7,1.0,0.01)\n",
    "i = 0\n",
    "while(i<len(b[1])):\n",
    "    x = i\n",
    "    y = b[20][i]\n",
    "    plt.plot(x,y,'o')\n",
    "    i+=1"
   ]
  },
  {
   "cell_type": "code",
   "execution_count": null,
   "metadata": {},
   "outputs": [],
   "source": [
    "# l_y = r_loop()\n",
    "i = 0\n",
    "while(i<len(l_y)):\n",
    "    x = i\n",
    "    y = l_y[i]\n",
    "    plt.plot(x,y,'o')\n",
    "    i+=1"
   ]
  },
  {
   "cell_type": "code",
   "execution_count": null,
   "metadata": {},
   "outputs": [],
   "source": []
  },
  {
   "cell_type": "code",
   "execution_count": null,
   "metadata": {},
   "outputs": [],
   "source": []
  }
 ],
 "metadata": {
  "kernelspec": {
   "display_name": "Python 3",
   "language": "python",
   "name": "python3"
  },
  "language_info": {
   "codemirror_mode": {
    "name": "ipython",
    "version": 3
   },
   "file_extension": ".py",
   "mimetype": "text/x-python",
   "name": "python",
   "nbconvert_exporter": "python",
   "pygments_lexer": "ipython3",
   "version": "3.6.5"
  }
 },
 "nbformat": 4,
 "nbformat_minor": 2
}
