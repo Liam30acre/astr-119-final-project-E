{
 "cells": [
  {
   "cell_type": "markdown",
   "metadata": {},
   "source": [
    "## Lyapunov exponent"
   ]
  },
  {
   "cell_type": "code",
   "execution_count": null,
   "metadata": {},
   "outputs": [],
   "source": [
    "%matplotlib inline\n",
    "import matplotlib.pyplot as plt\n",
    "import numpy as np"
   ]
  },
  {
   "cell_type": "code",
   "execution_count": null,
   "metadata": {},
   "outputs": [],
   "source": [
    "# Need to sum the function .5*ln for all values of x for a given r\n",
    "# There will be as many l as r"
   ]
  },
  {
   "cell_type": "code",
   "execution_count": null,
   "metadata": {},
   "outputs": [],
   "source": [
    "def lyupanov(x): # l (L) is Lyupanov exponent\n",
    "    \n",
    "    ly=[]  #makes empty array to be filled with l values\n",
    "    \n",
    "    for r in range(0.7,1.00,0.01):\n",
    "        \n",
    "        i = 0\n",
    "       \n",
    "        n = len(x)  # how many elements x\n",
    "        while(i<n):   #n being the number of x values per r\n",
    "            if(i==0):\n",
    "                l_0 = .5*np.log(np.fabs(4*r*(1-(2*x[i])))     #gets the first value of l\n",
    "                   \n",
    "                i += 1   #iterates\n",
    "        \n",
    "            elif(i<n-1):\n",
    "                l = l_0 + .5*np.log(np.fabs(4*r*(1-(2*x[i])))\n",
    "                l_0 = l   #defines the new l as l_0 so that we can plug it in summation above.\n",
    "                   #gets the next x value with \n",
    "                i += 1 \n",
    "            elif:\n",
    "                ly.append(l_0)\n",
    "                i += 1\n",
    "        # find a way to return array with each l value for corresponding to each r\n",
    "    return ly"
   ]
  },
  {
   "cell_type": "code",
   "execution_count": null,
   "metadata": {},
   "outputs": [],
   "source": [
    "a = [1,2,3,4,5,6,7,8,9]\n",
    "z = lyupanov(a)"
   ]
  },
  {
   "cell_type": "code",
   "execution_count": null,
   "metadata": {},
   "outputs": [],
   "source": []
  },
  {
   "cell_type": "code",
   "execution_count": null,
   "metadata": {},
   "outputs": [],
   "source": []
  }
 ],
 "metadata": {
  "kernelspec": {
   "display_name": "Python 3",
   "language": "python",
   "name": "python3"
  },
  "language_info": {
   "codemirror_mode": {
    "name": "ipython",
    "version": 3
   },
   "file_extension": ".py",
   "mimetype": "text/x-python",
   "name": "python",
   "nbconvert_exporter": "python",
   "pygments_lexer": "ipython3",
   "version": "3.6.5"
  }
 },
 "nbformat": 4,
 "nbformat_minor": 2
}
