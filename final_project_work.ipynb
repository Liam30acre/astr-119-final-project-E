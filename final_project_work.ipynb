{
 "cells": [
  {
   "cell_type": "markdown",
   "metadata": {},
   "source": [
    "## Plotting all values of x_n and lam"
   ]
  },
  {
   "cell_type": "code",
   "execution_count": 11,
   "metadata": {},
   "outputs": [],
   "source": [
    "%matplotlib inline\n",
    "import matplotlib.pyplot as plt\n",
    "import numpy as np"
   ]
  },
  {
   "cell_type": "code",
   "execution_count": 12,
   "metadata": {},
   "outputs": [],
   "source": [
    "def x_npoFunction(x_0, r, n):\n",
    "    \n",
    "    i = 0\n",
    "    \n",
    "    while(i<n+2):\n",
    "        if(i==0):\n",
    "            x_npo = 4*r*x_0*(1 - x_0)\n",
    "            x_n = x_npo\n",
    "            print (i, x_n)\n",
    "            i += 1\n",
    "\n",
    "        elif(i<n+1):\n",
    "            x_npo = 4*r*x_n*(1 - x_n)\n",
    "            x_n = x_npo\n",
    "            print(i, x_n)\n",
    "            i += 1\n",
    "            \n",
    "        elif(i>=n+1):\n",
    "            i+=1"
   ]
  },
  {
   "cell_type": "code",
   "execution_count": null,
   "metadata": {},
   "outputs": [],
   "source": [
    "def lyupanov(x): # l (L) is Lyupanov exponent\n",
    "    \n",
    "    ly=[]  #makes empty array to be filled with l values\n",
    "    \n",
    "    for r in range(0.7,1.00,0.01):\n",
    "        \n",
    "        i = 0\n",
    "       \n",
    "        n = len(x)  # how many elements x\n",
    "        while(i<n):   #n being the number of x values per r\n",
    "            if(i==0):\n",
    "                l_0 = .5*np.log(np.fabs(4*r*(1-(2*x[i])))     #gets the first value of l\n",
    "                   \n",
    "                i += 1   #iterates\n",
    "        \n",
    "            elif(i<n-1):\n",
    "                l = l_0 + .5*np.log(np.fabs(4*r*(1-(2*x[i])))\n",
    "                l_0 = l   #defines the new l as l_0 so that we can plug it in summation above.\n",
    "                   #gets the next x value with \n",
    "                i += 1 \n",
    "            elif:\n",
    "                ly.append(l_0)\n",
    "                i += 1\n",
    "        # find a way to return array with each l value for corresponding to each r\n",
    "    return ly"
   ]
  },
  {
   "cell_type": "code",
   "execution_count": null,
   "metadata": {},
   "outputs": [],
   "source": [
    "a = [1,2,3,4,5,6,7,8,9]\n",
    "z = lyupanov(a)"
   ]
  },
  {
   "cell_type": "code",
   "execution_count": 13,
   "metadata": {},
   "outputs": [
    {
     "name": "stdout",
     "output_type": "stream",
     "text": [
      "[0.7  0.71 0.72 0.73 0.74 0.75 0.76 0.77 0.78 0.79 0.8  0.81 0.82 0.83\n",
      " 0.84 0.85 0.86 0.87 0.88 0.89 0.9  0.91 0.92 0.93 0.94 0.95 0.96 0.97\n",
      " 0.98 0.99 1.  ]\n"
     ]
    }
   ],
   "source": [
    "r = np.linspace(0.7,1,31)\n",
    "print(r)"
   ]
  },
  {
   "cell_type": "code",
   "execution_count": 29,
   "metadata": {},
   "outputs": [
    {
     "name": "stdout",
     "output_type": "stream",
     "text": [
      "[ 0.  1.  2.  3.  4.  5.  6.  7.  8.  9. 10. 11. 12. 13. 14. 15. 16. 17.\n",
      " 18. 19. 20. 21. 22. 23. 24. 25. 26. 27. 28. 29. 30.]\n"
     ]
    }
   ],
   "source": [
    "x_0 = 0.65\n",
    "x_npo = 4*r*x_0*(1 - x_0)\n",
    "ly = np.linspace(0,30,31) #this is just a sample definition of ly; it needs to be defined differently\n",
    "print(ly)"
   ]
  },
  {
   "cell_type": "code",
   "execution_count": 61,
   "metadata": {},
   "outputs": [
    {
     "data": {
      "text/plain": [
       "Text(0.5, 1.07, '$ly\\\\ values$')"
      ]
     },
     "execution_count": 61,
     "metadata": {},
     "output_type": "execute_result"
    },
    {
     "data": {
      "image/png": "[encoded data removed]",
      "text/plain": [
       "<Figure size 432x288 with 2 Axes>"
      ]
     },
     "metadata": {
      "needs_background": "light"
     },
     "output_type": "display_data"
    }
   ],
   "source": [
    "f, axarr = plt.subplots(1, 2)\n",
    "f.subplots_adjust(wspace=0.4)\n",
    "\n",
    "#first panel - x_npo\n",
    "axarr[0].plot(r, x_npo)\n",
    "axarr[0].set_xlabel('r')\n",
    "axarr[0].set_ylabel('x_npo')\n",
    "axarr[0].set_title('$x_n\\ values$', position=(0.5,1.07))\n",
    "#second panel - ly\n",
    "axarr[1].plot(r, ly)\n",
    "axarr[1].set_xlabel('r')\n",
    "axarr[1].set_ylabel('ly')\n",
    "axarr[1].set_title('$ly\\ values$',position=(0.5,1.07))"
   ]
  },
  {
   "cell_type": "code",
   "execution_count": null,
   "metadata": {},
   "outputs": [],
   "source": []
  }
 ],
 "metadata": {
  "kernelspec": {
   "display_name": "Python 3",
   "language": "python",
   "name": "python3"
  },
  "language_info": {
   "codemirror_mode": {
    "name": "ipython",
    "version": 3
   },
   "file_extension": ".py",
   "mimetype": "text/x-python",
   "name": "python",
   "nbconvert_exporter": "python",
   "pygments_lexer": "ipython3",
   "version": "3.6.5"
  }
 },
 "nbformat": 4,
 "nbformat_minor": 2
}
